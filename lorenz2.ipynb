{
 "cells": [
  {
   "cell_type": "code",
   "execution_count": 28,
   "metadata": {},
   "outputs": [],
   "source": [
    "import numpy as np\n",
    "from scipy.sparse.linalg import eigs"
   ]
  },
  {
   "cell_type": "code",
   "execution_count": 38,
   "metadata": {},
   "outputs": [],
   "source": [
    "n = 1000    # Number of neurons\n",
    "m = 3       # Input dimension\n",
    "\n",
    "Win = np.random.uniform(-0.01, 0.01, [n, m])      # Weights connected from m inputs to n neurons\n",
    "\n",
    "A = np.zeros((n, n))        # Adjacency matrix of n neurons in reservoir\n",
    "for i in np.arange(n):\n",
    "    for j in np.arange(n):\n",
    "        temp = np.random.randint(0, n)\n",
    "        if temp < 6 :\n",
    "            A[i, j] = np.random.uniform(-0.5, 0.5)\n",
    "\n",
    "spec = max(abs(eigs(A, v0 = np.ones(n))[0]))\n",
    "A = A/spec"
   ]
  }
 ],
 "metadata": {
  "kernelspec": {
   "display_name": "base",
   "language": "python",
   "name": "python3"
  },
  "language_info": {
   "codemirror_mode": {
    "name": "ipython",
    "version": 3
   },
   "file_extension": ".py",
   "mimetype": "text/x-python",
   "name": "python",
   "nbconvert_exporter": "python",
   "pygments_lexer": "ipython3",
   "version": "3.11.7"
  }
 },
 "nbformat": 4,
 "nbformat_minor": 2
}
