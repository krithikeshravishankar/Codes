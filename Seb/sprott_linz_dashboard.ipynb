{
 "cells": [
  {
   "cell_type": "code",
   "execution_count": 1,
   "id": "c45f91dd",
   "metadata": {},
   "outputs": [],
   "source": [
    "import numpy as np\n",
    "import matplotlib.pyplot as plt\n",
    "from mpl_toolkits.mplot3d import Axes3D\n",
    "from ipywidgets import interact, FloatSlider"
   ]
  },
  {
   "cell_type": "code",
   "execution_count": 11,
   "id": "83cfb168",
   "metadata": {},
   "outputs": [
    {
     "data": {
      "application/vnd.jupyter.widget-view+json": {
       "model_id": "bdd515f7d7054ebe90c1337356541d19",
       "version_major": 2,
       "version_minor": 0
      },
      "text/plain": [
       "interactive(children=(FloatSlider(value=0.34, description='a', max=1.0, step=0.001), FloatSlider(value=0.002, …"
      ]
     },
     "metadata": {},
     "output_type": "display_data"
    },
    {
     "data": {
      "text/plain": [
       "<function __main__.sprott_linz_simulation(a, dt)>"
      ]
     },
     "execution_count": 11,
     "metadata": {},
     "output_type": "execute_result"
    }
   ],
   "source": [
    "def sprott_linz_derivatives(state, a):\n",
    "    x, y, z = state\n",
    "    dx = y + z\n",
    "    dy = -x + a * y\n",
    "    dz = x**2 - z\n",
    "    return np.array([dx, dy, dz])\n",
    "\n",
    "def sprott_linz_simulation(a, dt):\n",
    "    # Simulation parameters\n",
    "    T = 2000  # Total time\n",
    "    n = int(T / dt)  # Number of steps\n",
    "    times = np.linspace(0, T, n + 1)\n",
    "\n",
    "    # Initial state\n",
    "    state = np.array([-3.45, -3.03, 0.01])\n",
    "    trajectory = np.zeros((n + 1, 3))\n",
    "    trajectory[0] = state\n",
    "\n",
    "    # Integrate using RK4\n",
    "    for i in range(n):\n",
    "        k1 = sprott_linz_derivatives(state, a)\n",
    "        k2 = sprott_linz_derivatives(state + 0.5 * dt * k1, a)\n",
    "        k3 = sprott_linz_derivatives(state + 0.5 * dt * k2, a)\n",
    "        k4 = sprott_linz_derivatives(state + dt * k3, a)\n",
    "        state = state + (dt / 6) * (k1 + 2 * k2 + 2 * k3 + k4)\n",
    "        trajectory[i + 1] = state\n",
    "\n",
    "    # Plot the result\n",
    "    plt.figure(figsize=(10, 7))\n",
    "    ax = plt.axes(projection=\"3d\")\n",
    "    ax.plot3D(trajectory[1000:, 0], trajectory[1000:, 1], trajectory[1000:, 2], 'r', linewidth=0.5, label='Lorenz system')\n",
    "    ax.set_title(f\"Sprott-Linz System (a={a:.2f}, Δt={dt})\")\n",
    "    ax.set_xlabel('X')\n",
    "    ax.set_ylabel('Y')\n",
    "    ax.set_zlabel('Z')\n",
    "    plt.legend()\n",
    "    plt.show()\n",
    "\n",
    "# Create sliders for sigma, rho, beta, and dt\n",
    "interact(\n",
    "    sprott_linz_simulation,\n",
    "    a=FloatSlider(min=0, max=1, step=0.001, value=0.340, description='a'),\n",
    "    dt=FloatSlider(min=0.001, max=1, step=0.001, value=0.002, description='Δt'),\n",
    ")"
   ]
  }
 ],
 "metadata": {
  "kernelspec": {
   "display_name": "Pythonanaconda",
   "language": "python",
   "name": "python3"
  },
  "language_info": {
   "codemirror_mode": {
    "name": "ipython",
    "version": 3
   },
   "file_extension": ".py",
   "mimetype": "text/x-python",
   "name": "python",
   "nbconvert_exporter": "python",
   "pygments_lexer": "ipython3",
   "version": "3.11.8"
  }
 },
 "nbformat": 4,
 "nbformat_minor": 5
}
