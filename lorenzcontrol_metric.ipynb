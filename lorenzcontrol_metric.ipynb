{
 "cells": [
  {
   "cell_type": "code",
   "execution_count": 1,
   "metadata": {},
   "outputs": [],
   "source": [
    "import numpy as np\n",
    "import scipy.sparse as sp\n",
    "import matplotlib.pyplot as plt\n",
    "from numpy.linalg import norm"
   ]
  },
  {
   "cell_type": "code",
   "execution_count": 14,
   "metadata": {},
   "outputs": [
    {
     "name": "stderr",
     "output_type": "stream",
     "text": [
      "/var/folders/08/2nzzvlmn2n15r4kk5102nk6m0000gn/T/ipykernel_25115/2284576716.py:122: RuntimeWarning: overflow encountered in scalar multiply\n",
      "  yp = x * (28 - z) - y + gy[t] - alpha * vy[t]\n",
      "/var/folders/08/2nzzvlmn2n15r4kk5102nk6m0000gn/T/ipykernel_25115/2284576716.py:123: RuntimeWarning: overflow encountered in scalar multiply\n",
      "  zp = x * y - 2.66667 * z\n",
      "/var/folders/08/2nzzvlmn2n15r4kk5102nk6m0000gn/T/ipykernel_25115/2284576716.py:122: RuntimeWarning: invalid value encountered in scalar subtract\n",
      "  yp = x * (28 - z) - y + gy[t] - alpha * vy[t]\n",
      "/var/folders/08/2nzzvlmn2n15r4kk5102nk6m0000gn/T/ipykernel_25115/2284576716.py:127: RuntimeWarning: invalid value encountered in scalar add\n",
      "  z += dt * zp\n"
     ]
    },
    {
     "ename": "ValueError",
     "evalue": "x and y must have same first dimension, but have shapes (18,) and (26,)",
     "output_type": "error",
     "traceback": [
      "\u001b[0;31m---------------------------------------------------------------------------\u001b[0m",
      "\u001b[0;31mValueError\u001b[0m                                Traceback (most recent call last)",
      "Cell \u001b[0;32mIn[14], line 173\u001b[0m\n\u001b[1;32m    171\u001b[0m fig \u001b[38;5;241m=\u001b[39m plt\u001b[38;5;241m.\u001b[39mfigure()\n\u001b[1;32m    172\u001b[0m ax \u001b[38;5;241m=\u001b[39m plt\u001b[38;5;241m.\u001b[39mgca()\n\u001b[0;32m--> 173\u001b[0m \u001b[43max\u001b[49m\u001b[38;5;241;43m.\u001b[39;49m\u001b[43mplot\u001b[49m\u001b[43m(\u001b[49m\u001b[43malphaseries\u001b[49m\u001b[43m[\u001b[49m\u001b[38;5;241;43m0\u001b[39;49m\u001b[43m:\u001b[49m\u001b[38;5;241;43m18\u001b[39;49m\u001b[43m]\u001b[49m\u001b[43m \u001b[49m\u001b[43m,\u001b[49m\u001b[43mavgseries\u001b[49m\u001b[43m,\u001b[49m\u001b[43m \u001b[49m\u001b[38;5;124;43m'\u001b[39;49m\u001b[38;5;124;43mo\u001b[39;49m\u001b[38;5;124;43m'\u001b[39;49m\u001b[43m,\u001b[49m\u001b[43m \u001b[49m\u001b[43mc\u001b[49m\u001b[38;5;241;43m=\u001b[39;49m\u001b[38;5;124;43m'\u001b[39;49m\u001b[38;5;124;43mblue\u001b[39;49m\u001b[38;5;124;43m'\u001b[39;49m\u001b[43m,\u001b[49m\u001b[43m \u001b[49m\u001b[43mmarkeredgecolor\u001b[49m\u001b[38;5;241;43m=\u001b[39;49m\u001b[38;5;124;43m'\u001b[39;49m\u001b[38;5;124;43mnone\u001b[39;49m\u001b[38;5;124;43m'\u001b[39;49m\u001b[43m,\u001b[49m\u001b[43m \u001b[49m\u001b[43mlabel\u001b[49m\u001b[43m \u001b[49m\u001b[38;5;241;43m=\u001b[39;49m\u001b[43m \u001b[49m\u001b[38;5;124;43m'\u001b[39;49m\u001b[38;5;124;43mDistance vs alpha\u001b[39;49m\u001b[38;5;124;43m'\u001b[39;49m\u001b[43m)\u001b[49m\n\u001b[1;32m    174\u001b[0m ax\u001b[38;5;241m.\u001b[39mset_yscale(\u001b[38;5;124m'\u001b[39m\u001b[38;5;124mlog\u001b[39m\u001b[38;5;124m'\u001b[39m)\n\u001b[1;32m    175\u001b[0m ax\u001b[38;5;241m.\u001b[39mset_xscale(\u001b[38;5;124m'\u001b[39m\u001b[38;5;124mlog\u001b[39m\u001b[38;5;124m'\u001b[39m)\n",
      "File \u001b[0;32m/opt/anaconda3/envs/Pythonanaconda/lib/python3.11/site-packages/matplotlib/axes/_axes.py:1724\u001b[0m, in \u001b[0;36mAxes.plot\u001b[0;34m(self, scalex, scaley, data, *args, **kwargs)\u001b[0m\n\u001b[1;32m   1481\u001b[0m \u001b[38;5;250m\u001b[39m\u001b[38;5;124;03m\"\"\"\u001b[39;00m\n\u001b[1;32m   1482\u001b[0m \u001b[38;5;124;03mPlot y versus x as lines and/or markers.\u001b[39;00m\n\u001b[1;32m   1483\u001b[0m \n\u001b[0;32m   (...)\u001b[0m\n\u001b[1;32m   1721\u001b[0m \u001b[38;5;124;03m(``'green'``) or hex strings (``'#008000'``).\u001b[39;00m\n\u001b[1;32m   1722\u001b[0m \u001b[38;5;124;03m\"\"\"\u001b[39;00m\n\u001b[1;32m   1723\u001b[0m kwargs \u001b[38;5;241m=\u001b[39m cbook\u001b[38;5;241m.\u001b[39mnormalize_kwargs(kwargs, mlines\u001b[38;5;241m.\u001b[39mLine2D)\n\u001b[0;32m-> 1724\u001b[0m lines \u001b[38;5;241m=\u001b[39m [\u001b[38;5;241m*\u001b[39m\u001b[38;5;28mself\u001b[39m\u001b[38;5;241m.\u001b[39m_get_lines(\u001b[38;5;28mself\u001b[39m, \u001b[38;5;241m*\u001b[39margs, data\u001b[38;5;241m=\u001b[39mdata, \u001b[38;5;241m*\u001b[39m\u001b[38;5;241m*\u001b[39mkwargs)]\n\u001b[1;32m   1725\u001b[0m \u001b[38;5;28;01mfor\u001b[39;00m line \u001b[38;5;129;01min\u001b[39;00m lines:\n\u001b[1;32m   1726\u001b[0m     \u001b[38;5;28mself\u001b[39m\u001b[38;5;241m.\u001b[39madd_line(line)\n",
      "File \u001b[0;32m/opt/anaconda3/envs/Pythonanaconda/lib/python3.11/site-packages/matplotlib/axes/_base.py:303\u001b[0m, in \u001b[0;36m_process_plot_var_args.__call__\u001b[0;34m(self, axes, data, *args, **kwargs)\u001b[0m\n\u001b[1;32m    301\u001b[0m     this \u001b[38;5;241m+\u001b[39m\u001b[38;5;241m=\u001b[39m args[\u001b[38;5;241m0\u001b[39m],\n\u001b[1;32m    302\u001b[0m     args \u001b[38;5;241m=\u001b[39m args[\u001b[38;5;241m1\u001b[39m:]\n\u001b[0;32m--> 303\u001b[0m \u001b[38;5;28;01myield from\u001b[39;00m \u001b[38;5;28;43mself\u001b[39;49m\u001b[38;5;241;43m.\u001b[39;49m\u001b[43m_plot_args\u001b[49m\u001b[43m(\u001b[49m\n\u001b[1;32m    304\u001b[0m \u001b[43m    \u001b[49m\u001b[43maxes\u001b[49m\u001b[43m,\u001b[49m\u001b[43m \u001b[49m\u001b[43mthis\u001b[49m\u001b[43m,\u001b[49m\u001b[43m \u001b[49m\u001b[43mkwargs\u001b[49m\u001b[43m,\u001b[49m\u001b[43m \u001b[49m\u001b[43mambiguous_fmt_datakey\u001b[49m\u001b[38;5;241;43m=\u001b[39;49m\u001b[43mambiguous_fmt_datakey\u001b[49m\u001b[43m)\u001b[49m\n",
      "File \u001b[0;32m/opt/anaconda3/envs/Pythonanaconda/lib/python3.11/site-packages/matplotlib/axes/_base.py:499\u001b[0m, in \u001b[0;36m_process_plot_var_args._plot_args\u001b[0;34m(self, axes, tup, kwargs, return_kwargs, ambiguous_fmt_datakey)\u001b[0m\n\u001b[1;32m    496\u001b[0m     axes\u001b[38;5;241m.\u001b[39myaxis\u001b[38;5;241m.\u001b[39mupdate_units(y)\n\u001b[1;32m    498\u001b[0m \u001b[38;5;28;01mif\u001b[39;00m x\u001b[38;5;241m.\u001b[39mshape[\u001b[38;5;241m0\u001b[39m] \u001b[38;5;241m!=\u001b[39m y\u001b[38;5;241m.\u001b[39mshape[\u001b[38;5;241m0\u001b[39m]:\n\u001b[0;32m--> 499\u001b[0m     \u001b[38;5;28;01mraise\u001b[39;00m \u001b[38;5;167;01mValueError\u001b[39;00m(\u001b[38;5;124mf\u001b[39m\u001b[38;5;124m\"\u001b[39m\u001b[38;5;124mx and y must have same first dimension, but \u001b[39m\u001b[38;5;124m\"\u001b[39m\n\u001b[1;32m    500\u001b[0m                      \u001b[38;5;124mf\u001b[39m\u001b[38;5;124m\"\u001b[39m\u001b[38;5;124mhave shapes \u001b[39m\u001b[38;5;132;01m{\u001b[39;00mx\u001b[38;5;241m.\u001b[39mshape\u001b[38;5;132;01m}\u001b[39;00m\u001b[38;5;124m and \u001b[39m\u001b[38;5;132;01m{\u001b[39;00my\u001b[38;5;241m.\u001b[39mshape\u001b[38;5;132;01m}\u001b[39;00m\u001b[38;5;124m\"\u001b[39m)\n\u001b[1;32m    501\u001b[0m \u001b[38;5;28;01mif\u001b[39;00m x\u001b[38;5;241m.\u001b[39mndim \u001b[38;5;241m>\u001b[39m \u001b[38;5;241m2\u001b[39m \u001b[38;5;129;01mor\u001b[39;00m y\u001b[38;5;241m.\u001b[39mndim \u001b[38;5;241m>\u001b[39m \u001b[38;5;241m2\u001b[39m:\n\u001b[1;32m    502\u001b[0m     \u001b[38;5;28;01mraise\u001b[39;00m \u001b[38;5;167;01mValueError\u001b[39;00m(\u001b[38;5;124mf\u001b[39m\u001b[38;5;124m\"\u001b[39m\u001b[38;5;124mx and y can be no greater than 2D, but have \u001b[39m\u001b[38;5;124m\"\u001b[39m\n\u001b[1;32m    503\u001b[0m                      \u001b[38;5;124mf\u001b[39m\u001b[38;5;124m\"\u001b[39m\u001b[38;5;124mshapes \u001b[39m\u001b[38;5;132;01m{\u001b[39;00mx\u001b[38;5;241m.\u001b[39mshape\u001b[38;5;132;01m}\u001b[39;00m\u001b[38;5;124m and \u001b[39m\u001b[38;5;132;01m{\u001b[39;00my\u001b[38;5;241m.\u001b[39mshape\u001b[38;5;132;01m}\u001b[39;00m\u001b[38;5;124m\"\u001b[39m)\n",
      "\u001b[0;31mValueError\u001b[0m: x and y must have same first dimension, but have shapes (18,) and (26,)"
     ]
    },
    {
     "data": {
      "image/png": "[encoded data removed]",
      "text/plain": [
       "<Figure size 640x480 with 1 Axes>"
      ]
     },
     "metadata": {},
     "output_type": "display_data"
    }
   ],
   "source": [
    "alphaseries = np.array([0.01, 0.05, 0.1, 0.3, 0.5, 0.7, 1, 2, 5,\n",
    "                        10, 20, 50, 70, 80, 100,\n",
    "                        200, 400, 500, 1000,\n",
    "                        1200, 2000, 3000, 5000, 10000, 20000, 50000])\n",
    "\n",
    "#alphaseries = np.array([0.01, 1, 100, 1000, 2000, 3000])\n",
    "avgseries = []\n",
    "n = 1000  # reservoir size\n",
    "m = 3\n",
    "\n",
    "mu = 1.2\n",
    "lam = 0.000001\n",
    "\n",
    "tau = 10\n",
    "\n",
    "# Generate sparse reservoir matrix A1\n",
    "A1 = sp.random(n, n, density=6/n, format='csr')\n",
    "A1 = A1 - 0.5 * np.sign(A1.toarray())\n",
    "A1 = A1 * mu / np.abs(sp.linalg.eigs(A1, k=1)[0])  # normalize reservoir matrix\n",
    "A = sp.csr_matrix(A1)\n",
    "\n",
    "Win = 0.01 * (2.0 * np.random.rand(n, m) - 1)\n",
    "\n",
    "r = 0.5 - 1.0 * np.random.rand(n)\n",
    "\n",
    "x, y, z = -7.45, -3.03, 0.01\n",
    "\n",
    "T = 100\n",
    "dt = 0.002\n",
    "\n",
    "ntraining = int(T / dt)\n",
    "\n",
    "R = np.zeros((n, ntraining))\n",
    "f = np.zeros((m, ntraining))\n",
    "\n",
    "for t in range(ntraining):\n",
    "    \n",
    "    u = np.array([x, y, z])\n",
    "    R[:, t] = r\n",
    "\n",
    "    fx = np.cos(0.05 * dt * t)\n",
    "    fy = np.sin(0.05 * dt * t)\n",
    "    f[0, t] = fx\n",
    "    f[1, t] = fy\n",
    "\n",
    "    xp = 10 * (y - x) + fx\n",
    "    yp = x * (28 - z) - y + fy\n",
    "    zp = x * y - 2.66667 * z\n",
    "\n",
    "    x += dt * xp\n",
    "    y += dt * yp\n",
    "    z += dt * zp\n",
    "\n",
    "    r = np.tanh(A.dot(r) + Win.dot(u) + 1)\n",
    "\n",
    "Wout = f.dot(R.T).dot(np.linalg.inv(R.dot(R.T) + lam * np.eye(n)))\n",
    "\n",
    "gtemp = np.array([x, y, z])\n",
    "\n",
    "ndist = int(200 / dt)\n",
    "\n",
    "for alpha in alphaseries:\n",
    "    #np.random.seed(0)\n",
    "\n",
    "    \n",
    "\n",
    "    xross = np.zeros(ndist + 1)\n",
    "    yross = np.zeros(ndist + 1)\n",
    "    zross = np.zeros(ndist + 1)\n",
    "\n",
    "    xross[0] = -7.45\n",
    "    yross[0] = -3.03\n",
    "    zross[0] = 0.01\n",
    "\n",
    "\n",
    "    gx = np.zeros(ndist)\n",
    "    gy = np.zeros(ndist)\n",
    "\n",
    "    ux = np.zeros(ndist + 1)\n",
    "    uy = np.zeros(ndist + 1)\n",
    "\n",
    "    vx = np.zeros(ndist + 1)\n",
    "    vy = np.zeros(ndist + 1)\n",
    "\n",
    "\n",
    "    gpredx = np.zeros(ndist)\n",
    "    gpredy = np.zeros(ndist)\n",
    "\n",
    "    xplot = np.zeros(ndist)\n",
    "    yplot = np.zeros(ndist)\n",
    "    zplot = np.zeros(ndist)\n",
    "\n",
    "    xplotwithout = np.zeros(ndist)\n",
    "    yplotwithout = np.zeros(ndist)\n",
    "    zplotwithout = np.zeros(ndist)\n",
    "\n",
    "    xwithout, ywithout, zwithout = x, y, z\n",
    "\n",
    "    for t in range(ndist):\n",
    "\n",
    "        xrossdot = - yross[t] - zross[t]\n",
    "        yrossdot = xross[t] + 0.2 * yross[t]\n",
    "        zrossdot = 0.2 + zross[t] * (xross[t] - 5.7)\n",
    "\n",
    "        xross[t + 1] = xross[t] + dt * xrossdot\n",
    "        yross[t + 1] = yross[t] + dt * yrossdot\n",
    "        zross[t + 1] = zross[t] + dt * zrossdot\n",
    "    \n",
    "        gx[t] = xross[t] * 50\n",
    "        gy[t] = yross[t] * 50\n",
    "\n",
    "    \n",
    "        ux[t] = gtemp[0] \n",
    "        uy[t] = gtemp[1]\n",
    "\n",
    "\n",
    "\n",
    "        vx[t + 1] = vx[t] + dt / tau * (ux[t] - vx[t])\n",
    "        vy[t + 1] = vy[t] + dt / tau * (uy[t] - vy[t])\n",
    "\n",
    "        xp = 10 * (y - x) + gx[t] - alpha * vx[t]\n",
    "        yp = x * (28 - z) - y + gy[t] - alpha * vy[t]\n",
    "        zp = x * y - 2.66667 * z\n",
    "\n",
    "        x += dt * xp\n",
    "        y += dt * yp\n",
    "        z += dt * zp\n",
    "        \n",
    "        xplot[t] = x\n",
    "        yplot[t] = y\n",
    "        zplot[t] = z\n",
    "\n",
    "        xpwithout = 10 * (ywithout - xwithout) \n",
    "        ypwithout = xwithout * (28 - zwithout)\n",
    "        zpwithout = xwithout * ywithout - 2.66667 * zwithout\n",
    "\n",
    "        xwithout += dt * xpwithout\n",
    "        ywithout += dt * ypwithout\n",
    "        zwithout += dt * zpwithout\n",
    "        \n",
    "        xplotwithout[t] = xwithout\n",
    "        yplotwithout[t] = ywithout\n",
    "        zplotwithout[t] = zwithout\n",
    "\n",
    "        gtemp = np.array([x, y, z])\n",
    "        r = np.tanh(A.dot(r) + Win.dot(gtemp) + 1)\n",
    "        gtemp = Wout.dot(r)\n",
    "        gpredx[t] = gtemp[0]\n",
    "        gpredy[t] = gtemp[1]\n",
    "\n",
    "\n",
    "    pwithout = np.vstack((xplotwithout, yplotwithout, zplotwithout))\n",
    "    pwith = np.vstack((xplot, yplot, zplot))\n",
    "    pwithout = pwithout[:, -5000:]\n",
    "    pwith = pwith[:, -5000:]\n",
    "\n",
    "    sumdist = 0\n",
    "    avg = 0\n",
    "    for i in range(pwith.shape[1]):\n",
    "        mindist = norm(pwith[:, i] - pwithout[:, 0])\n",
    "        for j in range(pwithout.shape[1]):\n",
    "            if norm(pwith[:, i] - pwithout[:, j]) < mindist :\n",
    "                mindist = norm(pwith[:, i] - pwithout[:, j])\n",
    "        sumdist += mindist\n",
    "\n",
    "    avg = sumdist/pwith.shape[1]\n",
    "    avgseries.append(avg)\n",
    "\n",
    "avgseries = np.array(avgseries)\n",
    "\n",
    "fig = plt.figure()\n",
    "ax = plt.gca()\n",
    "ax.plot(alphaseries ,avgseries, 'o', c='blue', markeredgecolor='none', label = 'Distance vs alpha')\n",
    "ax.set_yscale('log')\n",
    "ax.set_xscale('log')\n",
    "plt.title(\"Distance from undisturbed trajectory vs alpha\")\n",
    "plt.xlabel(\"log(alpha)\")\n",
    "plt.ylabel(\"log(distance)\")\n",
    "plt.show()"
   ]
  },
  {
   "cell_type": "code",
   "execution_count": 3,
   "metadata": {},
   "outputs": [
    {
     "data": {
      "text/plain": [
       "100.0"
      ]
     },
     "execution_count": 3,
     "metadata": {},
     "output_type": "execute_result"
    }
   ],
   "source": [
    "alpha"
   ]
  },
  {
   "cell_type": "code",
   "execution_count": 15,
   "metadata": {},
   "outputs": [
    {
     "data": {
      "image/png": "[encoded data removed]",
      "text/plain": [
       "<Figure size 640x480 with 1 Axes>"
      ]
     },
     "metadata": {},
     "output_type": "display_data"
    }
   ],
   "source": [
    "fig = plt.figure()\n",
    "ax = plt.gca()\n",
    "ax.plot(alphaseries ,avgseries, 'o', c='blue', markeredgecolor='none', label = 'Distance vs alpha')\n",
    "ax.set_yscale('log')\n",
    "ax.set_xscale('log')\n",
    "plt.title(\"Distance from undisturbed trajectory vs alpha\")\n",
    "plt.xlabel(\"log(alpha)\")\n",
    "plt.ylabel(\"log(distance)\")\n",
    "plt.show()"
   ]
  },
  {
   "cell_type": "code",
   "execution_count": 5,
   "metadata": {},
   "outputs": [
    {
     "data": {
      "text/plain": [
       "array([1.0e-02, 5.0e-02, 1.0e-01, 3.0e-01, 5.0e-01, 7.0e-01, 8.0e-01,\n",
       "       9.0e-01, 1.0e+00, 1.0e+01, 2.0e+01, 3.0e+01, 4.0e+01, 5.0e+01,\n",
       "       6.0e+01, 7.0e+01, 8.0e+01, 9.0e+01, 1.0e+02, 2.0e+02, 4.0e+02,\n",
       "       6.0e+02, 8.0e+02, 1.0e+03, 1.2e+03, 1.4e+03, 1.6e+03, 1.8e+03,\n",
       "       2.0e+03, 2.1e+03, 2.2e+03, 2.3e+03, 2.4e+03, 2.5e+03, 2.6e+03,\n",
       "       2.7e+03, 2.8e+03, 2.9e+03, 3.0e+03])"
      ]
     },
     "execution_count": 5,
     "metadata": {},
     "output_type": "execute_result"
    }
   ],
   "source": [
    "alphaseries"
   ]
  },
  {
   "cell_type": "code",
   "execution_count": 19,
   "metadata": {},
   "outputs": [
    {
     "data": {
      "image/png": "[encoded data removed]",
      "text/plain": [
       "<Figure size 640x480 with 1 Axes>"
      ]
     },
     "metadata": {},
     "output_type": "display_data"
    }
   ],
   "source": [
    "fig = plt.figure()\n",
    "ax = plt.gca()\n",
    "ax.plot(alphaseries[0:31] ,avgseries, 'o', c='blue', markeredgecolor='none')\n",
    "ax.set_yscale('log')\n",
    "ax.set_xscale('log')"
   ]
  }
 ],
 "metadata": {
  "kernelspec": {
   "display_name": "Pythonanaconda",
   "language": "python",
   "name": "python3"
  },
  "language_info": {
   "codemirror_mode": {
    "name": "ipython",
    "version": 3
   },
   "file_extension": ".py",
   "mimetype": "text/x-python",
   "name": "python",
   "nbconvert_exporter": "python",
   "pygments_lexer": "ipython3",
   "version": "3.11.8"
  }
 },
 "nbformat": 4,
 "nbformat_minor": 2
}
