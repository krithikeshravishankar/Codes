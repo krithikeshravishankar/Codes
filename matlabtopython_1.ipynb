{
 "cells": [
  {
   "cell_type": "code",
   "execution_count": 4,
   "metadata": {},
   "outputs": [],
   "source": [
    "import numpy as np\n",
    "import scipy.sparse as sp\n",
    "import matplotlib.pyplot as plt\n",
    "\n",
    "np.random.seed(0)\n",
    "\n",
    "Dr = 300  # reservoir size\n",
    "D = 3\n",
    "\n",
    "mu = 1.2\n",
    "lam = 0.000001\n",
    "\n",
    "# Generate sparse reservoir matrix A1\n",
    "A1 = sp.random(Dr, Dr, density=6/Dr, format='csr')\n",
    "A1 = A1 - 0.5 * np.sign(A1.toarray())\n",
    "A1 = A1 * mu / np.abs(sp.linalg.eigs(A1, k=1)[0])  # normalize reservoir matrix\n",
    "A = sp.csr_matrix(A1)\n",
    "\n",
    "Win = 0.01 * (2.0 * np.random.rand(Dr, D) - 1)\n",
    "\n",
    "r = 0.5 - 1.0 * np.random.rand(Dr)\n",
    "r0 = r.copy()\n",
    "\n",
    "x, y, z = -2.9708, -5.1844, 12.1317\n",
    "\n",
    "T = 100\n",
    "dt = 0.02\n",
    "\n",
    "ntraining = int(T / dt)\n",
    "\n",
    "X = np.zeros((ntraining, D))\n",
    "R = np.zeros((ntraining, Dr))\n",
    "\n",
    "for t in range(ntraining):\n",
    "    u = np.array([x, y, z])\n",
    "    R[t, :] = r\n",
    "\n",
    "    xp = 10 * (y - x)\n",
    "    yp = x * (28 - z) - y\n",
    "    zp = x * y - 2.66667 * z\n",
    "\n",
    "    x += dt * xp\n",
    "    y += dt * yp\n",
    "    z += dt * zp\n",
    "\n",
    "    r = np.tanh(A.dot(r) + Win.dot(u) + 1)\n",
    "    X[t, :] = u\n",
    "\n",
    "w = X.T.dot(R).dot(np.linalg.inv(R.T.dot(R) + lam * np.eye(Dr)))\n",
    "\n",
    "\n"
   ]
  },
  {
   "cell_type": "code",
   "execution_count": 14,
   "metadata": {},
   "outputs": [
    {
     "data": {
      "text/plain": [
       "array([-17.3207817 , -18.77841648,  38.77144311])"
      ]
     },
     "execution_count": 14,
     "metadata": {},
     "output_type": "execute_result"
    }
   ],
   "source": [
    "X[4999]"
   ]
  },
  {
   "cell_type": "code",
   "execution_count": 3,
   "metadata": {},
   "outputs": [
    {
     "data": {
      "text/plain": [
       "array([[ 0.13164493,  0.40771731,  0.28396287, ...,  0.45457626,\n",
       "        -0.31913186, -0.32199318],\n",
       "       [ 0.89500743,  0.86191401,  0.87146268, ...,  0.93259595,\n",
       "         0.88023329,  0.8544009 ],\n",
       "       [ 0.72306089,  0.9204488 ,  0.65705104, ...,  0.18697189,\n",
       "         0.70786487,  0.98185675],\n",
       "       ...,\n",
       "       [ 0.79560092,  0.93115346, -0.26080908, ...,  0.36030115,\n",
       "         0.55889305,  0.98140671],\n",
       "       [ 0.79552993,  0.93352158, -0.24991549, ...,  0.37468892,\n",
       "         0.54818179,  0.98256762],\n",
       "       [ 0.79443307,  0.93465259, -0.23287497, ...,  0.38686367,\n",
       "         0.53780074,  0.98398175]])"
      ]
     },
     "execution_count": 3,
     "metadata": {},
     "output_type": "execute_result"
    }
   ],
   "source": [
    "v = np.array([x, y, z])\n",
    "\n",
    "nprediction = int(20 / dt)\n",
    "\n",
    "xpre = np.zeros(nprediction)\n",
    "ypre = np.zeros(nprediction)\n",
    "zpre = np.zeros(nprediction)\n",
    "\n",
    "xact = np.zeros(nprediction)\n",
    "yact = np.zeros(nprediction)\n",
    "zact = np.zeros(nprediction)\n",
    "\n",
    "for t in range(nprediction):\n",
    "    xp = 10 * (y - x)\n",
    "    yp = x * (28 - z) - y\n",
    "    zp = x * y - 2.66667 * z\n",
    "\n",
    "    x += dt * xp\n",
    "    y += dt * yp\n",
    "    z += dt * zp\n",
    "\n",
    "    r = np.tanh(A.dot(r) + Win.dot(v) + 1)\n",
    "    v = w.dot(r)\n",
    "\n",
    "    xpre[t] = v[0]\n",
    "    ypre[t] = v[1]\n",
    "    zpre[t] = v[2]\n",
    "\n",
    "    xact[t] = x\n",
    "    yact[t] = y\n",
    "    zact[t] = z\n",
    "\n",
    "times = dt * np.arange(1, nprediction + 1)\n",
    "\n",
    "plt.figure()\n",
    "plt.plot(times, xpre, 'o-', label='Predicted x')\n",
    "plt.plot(times, xact, label='Actual x')\n",
    "plt.xlabel('Time')\n",
    "plt.ylabel('Value')\n",
    "plt.legend()\n",
    "plt.show()"
   ]
  }
 ],
 "metadata": {
  "kernelspec": {
   "display_name": "Pythonanaconda",
   "language": "python",
   "name": "python3"
  },
  "language_info": {
   "codemirror_mode": {
    "name": "ipython",
    "version": 3
   },
   "file_extension": ".py",
   "mimetype": "text/x-python",
   "name": "python",
   "nbconvert_exporter": "python",
   "pygments_lexer": "ipython3",
   "version": "3.11.8"
  }
 },
 "nbformat": 4,
 "nbformat_minor": 2
}
