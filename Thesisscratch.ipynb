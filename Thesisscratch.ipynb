{
 "cells": [
  {
   "cell_type": "markdown",
   "metadata": {},
   "source": [
    "## Rough sketch of thesis\n",
    "\n",
    "### Title : Data-driven methods to control chaotic dynamical systems?"
   ]
  },
  {
   "cell_type": "markdown",
   "metadata": {},
   "source": [
    "- Introduction:\n",
    "- Preliminaries:\n",
    "    - Reservoir computing\n",
    "    - PID control\n",
    "- Previous work using RC for control\n",
    "- My work\n",
    "    - PID control\n",
    "    - Parameter disturbance\n",
    "    - Mixed disturbance?\n",
    "    - Different systems like Rossler maybe\n",
    "    - Study spectrogram\n",
    "    "
   ]
  },
  {
   "cell_type": "markdown",
   "metadata": {},
   "source": [
    "My work: Different control schemes are available. Optimize the parameters for each control scheme for two regimes - chaotic and perdiodic. Then, compare the optimal performance of each control scheme with every other control scheme to see performance. Do the same for another system like Mackey-Glass or Rossler as well. "
   ]
  }
 ],
 "metadata": {
  "kernelspec": {
   "display_name": "Pythonanaconda",
   "language": "python",
   "name": "python3"
  },
  "language_info": {
   "name": "python",
   "version": "3.11.8"
  }
 },
 "nbformat": 4,
 "nbformat_minor": 2
}
