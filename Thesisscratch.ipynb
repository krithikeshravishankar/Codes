{
 "cells": [
  {
   "cell_type": "markdown",
   "metadata": {},
   "source": [
    "## Rough sketch of thesis\n",
    "\n",
    "### Title : Data-driven methods to control chaotic dynamical systems?"
   ]
  },
  {
   "cell_type": "markdown",
   "metadata": {},
   "source": [
    "- Introduction:\n",
    "- Preliminaries:\n",
    "    - Reservoir computing\n",
    "    - PID control\n",
    "- Previous work using RC for control\n",
    "- My work\n",
    "    - PID control\n",
    "    - Parameter disturbance\n",
    "    - Mixed disturbance?\n",
    "    - Different systems like Rossler maybe\n",
    "    - Study spectrogram\n",
    "    "
   ]
  },
  {
   "cell_type": "markdown",
   "metadata": {},
   "source": [
    "My work: Different control schemes are available. Optimize the parameters for each control scheme for two regimes - chaotic and perdiodic. Then, compare the optimal performance of each control scheme with every other control scheme to see performance. Do the same for another system like Mackey-Glass or Rossler as well. "
   ]
  },
  {
   "cell_type": "markdown",
   "metadata": {},
   "source": [
    "Simulation experiments to run:\n",
    "\n",
    "Forecasting as application : \n",
    "- Adjacency matrix density variation\n",
    "- Different dynamical systems\n",
    "- regularization lambda variation - maybe not?\n",
    "- number of reservoir neurons\n",
    "- Spectral radius\n",
    "- Give previous instant states as input\n",
    "- Reducing dt vs increasing Ttrain\n",
    "\n",
    "Evaluations :\n",
    "- Time at which the trajectories deviate\n",
    "- Trajectory distance each point\n",
    "- Trajectory distance time\n",
    "- Lyapunov exponent\n",
    "- Time to run code\n",
    "- Compare with KNN, Deep learning\n",
    "\n",
    "------------------------------------------------------------------------\n",
    "\n",
    "Feedback control as application:\n",
    "- Change Kp, Ki\n",
    "- Add noise at different places \n",
    "    - Noise term to derivative\n",
    "    - Noise term to sensor reading\n",
    "    - Different types of noise\n",
    "- Delrho, delsigma, delbeta over a range\n",
    "- Change in qualitative behaviour - periodic vs chaotic\n",
    "- Multiple forcing functions given one after another\n",
    "\n",
    "\n",
    "\n",
    "Delayed control:\n",
    "- Add noise at different places \n",
    "    - Noise term to derivative\n",
    "    - Noise term to sensor reading\n",
    "    - Different types of noise\n",
    "- Different forcing functions\n",
    "\n",
    "\n",
    "Evaluations : \n",
    "- Trajectory distance each point\n",
    "- Trajectory distance time\n",
    "- Cost of control : how much control, how often. Area under curve?\n",
    "\n",
    "\n",
    "-----------------------------------------------------------------------\n",
    "\n",
    "Detecting system from disturbance as application:\n",
    "- Different delrho, delsigma, delbeta\n",
    "- Different forcing functions\n",
    "\n",
    "Evaluations :\n",
    "- Error in disturbance detection\n",
    "\n",
    "-----------------------------------------------------------------------\n",
    "\n",
    "Cold-start problem:\n",
    "- Don't predict for the first few seconds, compare data with training data, set reservoir to the state that's most similar.\n",
    "\n",
    "\n",
    "\n",
    "\n"
   ]
  }
 ],
 "metadata": {
  "kernelspec": {
   "display_name": "Pythonanaconda",
   "language": "python",
   "name": "python3"
  },
  "language_info": {
   "name": "python",
   "version": "3.11.8"
  }
 },
 "nbformat": 4,
 "nbformat_minor": 2
}
