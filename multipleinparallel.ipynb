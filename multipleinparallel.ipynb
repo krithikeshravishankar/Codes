{
 "cells": [
  {
   "cell_type": "markdown",
   "id": "eb3aaa67",
   "metadata": {},
   "source": [
    "# Parallel systems with single reservoir"
   ]
  },
  {
   "cell_type": "markdown",
   "id": "f283322e",
   "metadata": {},
   "source": [
    "Can we have multiple chaotic systems running independently, and use a single reservoir to learn all of it simultaneously."
   ]
  },
  {
   "cell_type": "code",
   "execution_count": 1,
   "id": "8b2565aa",
   "metadata": {},
   "outputs": [],
   "source": [
    "import numpy as np\n",
    "import scipy.sparse as sp\n",
    "import matplotlib.pyplot as plt\n",
    "from numpy.linalg import norm\n",
    "from mpl_toolkits.mplot3d import Axes3D "
   ]
  },
  {
   "cell_type": "code",
   "execution_count": null,
   "id": "e55624cd",
   "metadata": {},
   "outputs": [],
   "source": []
  },
  {
   "cell_type": "code",
   "execution_count": null,
   "id": "f7ee42b0",
   "metadata": {},
   "outputs": [],
   "source": []
  }
 ],
 "metadata": {
  "kernelspec": {
   "display_name": "Pythonanaconda",
   "language": "python",
   "name": "python3"
  },
  "language_info": {
   "codemirror_mode": {
    "name": "ipython",
    "version": 3
   },
   "file_extension": ".py",
   "mimetype": "text/x-python",
   "name": "python",
   "nbconvert_exporter": "python",
   "pygments_lexer": "ipython3",
   "version": "3.11.8"
  }
 },
 "nbformat": 4,
 "nbformat_minor": 5
}
