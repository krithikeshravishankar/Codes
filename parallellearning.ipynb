{
 "cells": [
  {
   "cell_type": "markdown",
   "id": "76e26939",
   "metadata": {},
   "source": [
    "What if the reservoir learns parallely as the system is evolving? Say when testing, the reservoir is gathering the new data, adjusting its weights to forecast from that point onwards. Maybe have a moving window of time series, learn from the window after every few time steps, and then predict based on the new weights. Will this work?"
   ]
  },
  {
   "cell_type": "code",
   "execution_count": null,
   "id": "8a8e3597",
   "metadata": {},
   "outputs": [],
   "source": []
  }
 ],
 "metadata": {
  "kernelspec": {
   "display_name": "Pythonanaconda",
   "language": "python",
   "name": "python3"
  },
  "language_info": {
   "name": "python",
   "version": "3.11.8"
  }
 },
 "nbformat": 4,
 "nbformat_minor": 5
}
